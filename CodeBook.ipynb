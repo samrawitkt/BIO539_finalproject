{
 "cells": [
  {
   "cell_type": "code",
   "execution_count": null,
   "metadata": {},
   "outputs": [],
   "source": [
    "#pip install xlrd==1.2.0"
   ]
  },
  {
   "cell_type": "code",
   "execution_count": 1,
   "metadata": {},
   "outputs": [],
   "source": [
    "#pip install seaborn"
   ]
  },
  {
   "cell_type": "code",
   "execution_count": null,
   "metadata": {},
   "outputs": [],
   "source": [
    "#!python3 -m pip install statsmodels"
   ]
  },
  {
   "cell_type": "code",
   "execution_count": null,
   "metadata": {},
   "outputs": [],
   "source": [
    "#pip install --upgrade pip"
   ]
  },
  {
   "cell_type": "markdown",
   "metadata": {},
   "source": [
    "#### Bio 539 - CodeBook\n",
    "#### Samrawit Kebreab Tekie\n",
    "#### 04/26/2021"
   ]
  },
  {
   "cell_type": "code",
   "execution_count": 50,
   "metadata": {
    "scrolled": true
   },
   "outputs": [],
   "source": [
    "\"\"\"\n",
    "LOAD ALL THE NECESSARY PACKAGES \n",
    "\"\"\"\n",
    "import pandas as pd\n",
    "import numpy as np\n",
    "import statsmodels.api as sm\n",
    "import seaborn as sns\n",
    "import scipy.stats as stats\n",
    "import matplotlib.pyplot as plt\n",
    "import warnings\n",
    "from statsmodels.formula.api import ols\n",
    "\n",
    "%matplotlib inline"
   ]
  },
  {
   "cell_type": "code",
   "execution_count": 22,
   "metadata": {},
   "outputs": [
    {
     "data": {
      "text/html": [
       "<div>\n",
       "<style scoped>\n",
       "    .dataframe tbody tr th:only-of-type {\n",
       "        vertical-align: middle;\n",
       "    }\n",
       "\n",
       "    .dataframe tbody tr th {\n",
       "        vertical-align: top;\n",
       "    }\n",
       "\n",
       "    .dataframe thead th {\n",
       "        text-align: right;\n",
       "    }\n",
       "</style>\n",
       "<table border=\"1\" class=\"dataframe\">\n",
       "  <thead>\n",
       "    <tr style=\"text-align: right;\">\n",
       "      <th></th>\n",
       "      <th>Code</th>\n",
       "      <th>GENDER</th>\n",
       "      <th>ETHNICITY</th>\n",
       "      <th>FIRST_GEN</th>\n",
       "      <th>HOME_CITY</th>\n",
       "      <th>HOME_STATE</th>\n",
       "      <th>PELL_IND</th>\n",
       "      <th>TD_IND</th>\n",
       "      <th>FERPA_FLG</th>\n",
       "      <th>PRIMARY_PROGRAM</th>\n",
       "      <th>...</th>\n",
       "      <th>CUM_GPA</th>\n",
       "      <th>SAT_SCORE</th>\n",
       "      <th>ACT_SCORE</th>\n",
       "      <th>HS_CONV_GPA</th>\n",
       "      <th>STEM_CRSE_COUNT_TERM</th>\n",
       "      <th>STEM_CRSE_COUNT_TOTAL</th>\n",
       "      <th>Exam One</th>\n",
       "      <th>Diagnostic Exam</th>\n",
       "      <th>First Module</th>\n",
       "      <th>Subject Enhancement Project</th>\n",
       "    </tr>\n",
       "  </thead>\n",
       "  <tbody>\n",
       "    <tr>\n",
       "      <th>0</th>\n",
       "      <td>100</td>\n",
       "      <td>F</td>\n",
       "      <td>2+ Races</td>\n",
       "      <td>Y</td>\n",
       "      <td>Seekonk</td>\n",
       "      <td>MA</td>\n",
       "      <td>N</td>\n",
       "      <td>N</td>\n",
       "      <td>N</td>\n",
       "      <td>UC_PH</td>\n",
       "      <td>...</td>\n",
       "      <td>0.00</td>\n",
       "      <td>1110</td>\n",
       "      <td>0</td>\n",
       "      <td>3.1</td>\n",
       "      <td>3</td>\n",
       "      <td>3</td>\n",
       "      <td>48.0</td>\n",
       "      <td>70</td>\n",
       "      <td>5.0</td>\n",
       "      <td>50</td>\n",
       "    </tr>\n",
       "    <tr>\n",
       "      <th>1</th>\n",
       "      <td>101</td>\n",
       "      <td>M</td>\n",
       "      <td>2+ Races</td>\n",
       "      <td>Y</td>\n",
       "      <td>Exeter</td>\n",
       "      <td>RI</td>\n",
       "      <td>Y</td>\n",
       "      <td>N</td>\n",
       "      <td>N</td>\n",
       "      <td>UC_EL</td>\n",
       "      <td>...</td>\n",
       "      <td>0.00</td>\n",
       "      <td>0</td>\n",
       "      <td>0</td>\n",
       "      <td>NaN</td>\n",
       "      <td>1</td>\n",
       "      <td>1</td>\n",
       "      <td>50.0</td>\n",
       "      <td>75</td>\n",
       "      <td>6.0</td>\n",
       "      <td>50</td>\n",
       "    </tr>\n",
       "    <tr>\n",
       "      <th>2</th>\n",
       "      <td>102</td>\n",
       "      <td>M</td>\n",
       "      <td>2+ Races</td>\n",
       "      <td>N</td>\n",
       "      <td>Pawtucket</td>\n",
       "      <td>RI</td>\n",
       "      <td>Y</td>\n",
       "      <td>Y</td>\n",
       "      <td>N</td>\n",
       "      <td>UC_AS</td>\n",
       "      <td>...</td>\n",
       "      <td>1.93</td>\n",
       "      <td>0</td>\n",
       "      <td>0</td>\n",
       "      <td>NaN</td>\n",
       "      <td>1</td>\n",
       "      <td>1</td>\n",
       "      <td>13.0</td>\n",
       "      <td>50</td>\n",
       "      <td>0.0</td>\n",
       "      <td>0</td>\n",
       "    </tr>\n",
       "    <tr>\n",
       "      <th>3</th>\n",
       "      <td>103</td>\n",
       "      <td>F</td>\n",
       "      <td>2+ Races</td>\n",
       "      <td>Y</td>\n",
       "      <td>Cranston</td>\n",
       "      <td>RI</td>\n",
       "      <td>N</td>\n",
       "      <td>N</td>\n",
       "      <td>N</td>\n",
       "      <td>UC_EL</td>\n",
       "      <td>...</td>\n",
       "      <td>4.00</td>\n",
       "      <td>1140</td>\n",
       "      <td>0</td>\n",
       "      <td>4.1</td>\n",
       "      <td>2</td>\n",
       "      <td>2</td>\n",
       "      <td>92.0</td>\n",
       "      <td>90</td>\n",
       "      <td>12.0</td>\n",
       "      <td>50</td>\n",
       "    </tr>\n",
       "    <tr>\n",
       "      <th>4</th>\n",
       "      <td>104</td>\n",
       "      <td>M</td>\n",
       "      <td>2+ Races</td>\n",
       "      <td>N</td>\n",
       "      <td>Holbrook</td>\n",
       "      <td>NY</td>\n",
       "      <td>N</td>\n",
       "      <td>N</td>\n",
       "      <td>N</td>\n",
       "      <td>UC_EL</td>\n",
       "      <td>...</td>\n",
       "      <td>0.00</td>\n",
       "      <td>1020</td>\n",
       "      <td>0</td>\n",
       "      <td>NaN</td>\n",
       "      <td>2</td>\n",
       "      <td>2</td>\n",
       "      <td>40.0</td>\n",
       "      <td>60</td>\n",
       "      <td>0.0</td>\n",
       "      <td>0</td>\n",
       "    </tr>\n",
       "    <tr>\n",
       "      <th>5</th>\n",
       "      <td>105</td>\n",
       "      <td>M</td>\n",
       "      <td>2+ Races</td>\n",
       "      <td>Y</td>\n",
       "      <td>East Providence</td>\n",
       "      <td>RI</td>\n",
       "      <td>Y</td>\n",
       "      <td>Y</td>\n",
       "      <td>Y</td>\n",
       "      <td>UC_UN</td>\n",
       "      <td>...</td>\n",
       "      <td>1.71</td>\n",
       "      <td>0</td>\n",
       "      <td>0</td>\n",
       "      <td>NaN</td>\n",
       "      <td>1</td>\n",
       "      <td>6</td>\n",
       "      <td>NaN</td>\n",
       "      <td>0</td>\n",
       "      <td>3.0</td>\n",
       "      <td>0</td>\n",
       "    </tr>\n",
       "  </tbody>\n",
       "</table>\n",
       "<p>6 rows × 26 columns</p>\n",
       "</div>"
      ],
      "text/plain": [
       "   Code GENDER ETHNICITY FIRST_GEN        HOME_CITY HOME_STATE PELL_IND  \\\n",
       "0   100      F  2+ Races         Y          Seekonk         MA        N   \n",
       "1   101      M  2+ Races         Y           Exeter         RI        Y   \n",
       "2   102      M  2+ Races         N        Pawtucket         RI        Y   \n",
       "3   103      F  2+ Races         Y         Cranston         RI        N   \n",
       "4   104      M  2+ Races         N         Holbrook         NY        N   \n",
       "5   105      M  2+ Races         Y  East Providence         RI        Y   \n",
       "\n",
       "  TD_IND FERPA_FLG PRIMARY_PROGRAM  ... CUM_GPA SAT_SCORE ACT_SCORE  \\\n",
       "0      N         N           UC_PH  ...    0.00      1110         0   \n",
       "1      N         N           UC_EL  ...    0.00         0         0   \n",
       "2      Y         N           UC_AS  ...    1.93         0         0   \n",
       "3      N         N           UC_EL  ...    4.00      1140         0   \n",
       "4      N         N           UC_EL  ...    0.00      1020         0   \n",
       "5      Y         Y           UC_UN  ...    1.71         0         0   \n",
       "\n",
       "  HS_CONV_GPA  STEM_CRSE_COUNT_TERM  STEM_CRSE_COUNT_TOTAL  Exam One  \\\n",
       "0         3.1                     3                      3      48.0   \n",
       "1         NaN                     1                      1      50.0   \n",
       "2         NaN                     1                      1      13.0   \n",
       "3         4.1                     2                      2      92.0   \n",
       "4         NaN                     2                      2      40.0   \n",
       "5         NaN                     1                      6       NaN   \n",
       "\n",
       "   Diagnostic Exam   First Module   Subject Enhancement Project  \n",
       "0                70            5.0                           50  \n",
       "1                75            6.0                           50  \n",
       "2                50            0.0                            0  \n",
       "3                90           12.0                           50  \n",
       "4                60            0.0                            0  \n",
       "5                 0            3.0                            0  \n",
       "\n",
       "[6 rows x 26 columns]"
      ]
     },
     "execution_count": 22,
     "metadata": {},
     "output_type": "execute_result"
    }
   ],
   "source": [
    "\"\"\"\n",
    "Loading the dataset\n",
    "\"\"\"\n",
    "Project=pd.read_excel(\"../BIO539/BIO101_project.xlsx\")\n",
    "Project[:6]"
   ]
  },
  {
   "cell_type": "code",
   "execution_count": 23,
   "metadata": {
    "scrolled": true
   },
   "outputs": [
    {
     "name": "stdout",
     "output_type": "stream",
     "text": [
      "Index(['Code', 'GENDER', 'ETHNICITY', 'FIRST_GEN', 'HOME_CITY', 'HOME_STATE',\n",
      "       'PELL_IND', 'TD_IND', 'FERPA_FLG', 'PRIMARY_PROGRAM', 'PRIM_PROG_DESCR',\n",
      "       'ACAD_PLAN1', 'ACAD_PLAN1_DESCR', 'ACAD_LEVEL', 'UNITS_TAKING',\n",
      "       'TOT_CUM_CREDITS', 'CUM_GPA', 'SAT_SCORE', 'ACT_SCORE', 'HS_CONV_GPA',\n",
      "       'STEM_CRSE_COUNT_TERM', 'STEM_CRSE_COUNT_TOTAL', 'Exam One',\n",
      "       'Diagnostic Exam ', 'First Module ', 'Subject Enhancement Project'],\n",
      "      dtype='object')\n",
      "Index(['Code', 'GENDER', 'ETHNICITY', 'FIRST_GEN', 'HOME_CITY', 'HOME_STATE',\n",
      "       'PELL_IND', 'TD_IND', 'FERPA_FLG', 'PRIMARY_PROGRAM', 'PRIM_PROG_DESCR',\n",
      "       'ACAD_PLAN1', 'ACAD_PLAN1_DESCR', 'ACAD_LEVEL', 'UNITS_TAKING',\n",
      "       'TOT_CUM_CREDITS', 'CUM_GPA', 'SAT_SCORE', 'ACT_SCORE', 'HS_CONV_GPA',\n",
      "       'STEM_CRSE_COUNT_TERM', 'STEM_CRSE_COUNT_TOTAL', 'Exam1', 'DigEx',\n",
      "       'Mod1', 'Subject Enhancement Project'],\n",
      "      dtype='object')\n"
     ]
    }
   ],
   "source": [
    "\"\"\"\n",
    "Data cleaning and renaming of long column heads to make it suitable for calling in future analysis codes\n",
    "\"\"\"\n",
    "pd.DataFrame(Project)\n",
    "print (Project.columns)\n",
    "Project.rename(columns= {'Exam One':'Exam1','Diagnostic Exam ':'DigEx','First Module ':'Mod1'},inplace=True)\n",
    "print (Project.columns)"
   ]
  },
  {
   "cell_type": "code",
   "execution_count": 24,
   "metadata": {},
   "outputs": [],
   "source": [
    "\"\"\"\n",
    "Dropping NA values from columns 'Exam1' and 'DigEx'\n",
    "\"\"\"\n",
    "Project.dropna(subset=['Exam1'] + ['DigEx'], inplace=True)"
   ]
  },
  {
   "cell_type": "code",
   "execution_count": 101,
   "metadata": {},
   "outputs": [
    {
     "data": {
      "image/png": "[encoded data removed]",
      "text/plain": [
       "<Figure size 1296x1440 with 1 Axes>"
      ]
     },
     "metadata": {
      "needs_background": "light"
     },
     "output_type": "display_data"
    }
   ],
   "source": [
    "\"\"\"\n",
    "Grouping the dataset by 'Ethnicity' and getting the mean of the groups for the 'DigEx'\n",
    "\"\"\"\n",
    "DigExMean=Project.groupby('ETHNICITY').agg([np.mean, np.std])['DigEx']\n",
    "\"\"\"\n",
    "plot the bargraph of the evaluated data.\n",
    "\"\"\"\n",
    "pdata = pd.DataFrame(DigExMean)\n",
    "pdata.plot.bar(legend = False, yerr= \"std\", figsize= (18,20))\n",
    "plt.ylim(0, 100)\n",
    "plt.title('MEAN SCORES AS AFFECTED BY STUDENT BACKGROUND', fontsize=20)\n",
    "plt.xlabel('Ethincity', fontsize=16)\n",
    "plt.ylabel('Mean of diagonstic exam', fontsize=16)\n",
    "plt.subplots_adjust(left = 0.3, bottom=0.3, right=0.8, top=0.8)\n",
    "plt.savefig('Effects of background.png')\n",
    "plt.show()"
   ]
  },
  {
   "cell_type": "code",
   "execution_count": 102,
   "metadata": {},
   "outputs": [
    {
     "data": {
      "image/png": "[encoded data removed]",
      "text/plain": [
       "<Figure size 1296x1440 with 1 Axes>"
      ]
     },
     "metadata": {
      "needs_background": "light"
     },
     "output_type": "display_data"
    }
   ],
   "source": [
    "\"\"\"\n",
    "sorting the dataset by ethnicity, connect it with the maximun and minimum values of diagnostic exam results for each group.\n",
    "\"\"\"\n",
    "DigExMaxMin=Project.groupby('ETHNICITY').agg([np.max, np.min])['DigEx']\n",
    "\"\"\"\n",
    "plot the bargraph of the evaluated data.\n",
    "\"\"\"\n",
    "pdata = pd.DataFrame(DigExMaxMin)\n",
    "pdata.plot.bar(legend = True, figsize= (18,20))\n",
    "plt.ylim(0, 120)\n",
    "plt.title('EFFECTS OF BACKGROUND ON STUDENT EDUCATIONAL PROGRESS',fontsize=20)\n",
    "plt.xlabel('Ethincity', fontsize=16)\n",
    "plt.ylabel('Diagonstic Exam Score', fontsize=16)\n",
    "plt.subplots_adjust(left = 0.3, bottom=0.3, right=0.8, top=0.8)\n",
    "plt.savefig('Effects of background on Exam.png')\n",
    "plt.show()"
   ]
  },
  {
   "cell_type": "code",
   "execution_count": 27,
   "metadata": {},
   "outputs": [
    {
     "data": {
      "text/html": [
       "<table class=\"simpletable\">\n",
       "<caption>OLS Regression Results</caption>\n",
       "<tr>\n",
       "  <th>Dep. Variable:</th>          <td>DigEx</td>      <th>  R-squared:         </th> <td>   0.001</td>\n",
       "</tr>\n",
       "<tr>\n",
       "  <th>Model:</th>                   <td>OLS</td>       <th>  Adj. R-squared:    </th> <td>  -0.018</td>\n",
       "</tr>\n",
       "<tr>\n",
       "  <th>Method:</th>             <td>Least Squares</td>  <th>  F-statistic:       </th> <td> 0.03786</td>\n",
       "</tr>\n",
       "<tr>\n",
       "  <th>Date:</th>             <td>Mon, 26 Apr 2021</td> <th>  Prob (F-statistic):</th>  <td> 0.963</td> \n",
       "</tr>\n",
       "<tr>\n",
       "  <th>Time:</th>                 <td>15:48:25</td>     <th>  Log-Likelihood:    </th> <td> -499.32</td>\n",
       "</tr>\n",
       "<tr>\n",
       "  <th>No. Observations:</th>      <td>   112</td>      <th>  AIC:               </th> <td>   1005.</td>\n",
       "</tr>\n",
       "<tr>\n",
       "  <th>Df Residuals:</th>          <td>   109</td>      <th>  BIC:               </th> <td>   1013.</td>\n",
       "</tr>\n",
       "<tr>\n",
       "  <th>Df Model:</th>              <td>     2</td>      <th>                     </th>     <td> </td>   \n",
       "</tr>\n",
       "<tr>\n",
       "  <th>Covariance Type:</th>      <td>nonrobust</td>    <th>                     </th>     <td> </td>   \n",
       "</tr>\n",
       "</table>\n",
       "<table class=\"simpletable\">\n",
       "<tr>\n",
       "          <td></td>             <th>coef</th>     <th>std err</th>      <th>t</th>      <th>P>|t|</th>  <th>[0.025</th>    <th>0.975]</th>  \n",
       "</tr>\n",
       "<tr>\n",
       "  <th>Intercept</th>         <td>   65.5803</td> <td>    3.312</td> <td>   19.798</td> <td> 0.000</td> <td>   59.015</td> <td>   72.145</td>\n",
       "</tr>\n",
       "<tr>\n",
       "  <th>C(GENDER)[T.M]</th>    <td>    0.4924</td> <td>    4.239</td> <td>    0.116</td> <td> 0.908</td> <td>   -7.908</td> <td>    8.893</td>\n",
       "</tr>\n",
       "<tr>\n",
       "  <th>C(FIRST_GEN)[T.Y]</th> <td>    1.1839</td> <td>    4.352</td> <td>    0.272</td> <td> 0.786</td> <td>   -7.441</td> <td>    9.809</td>\n",
       "</tr>\n",
       "</table>\n",
       "<table class=\"simpletable\">\n",
       "<tr>\n",
       "  <th>Omnibus:</th>       <td>24.762</td> <th>  Durbin-Watson:     </th> <td>   1.751</td>\n",
       "</tr>\n",
       "<tr>\n",
       "  <th>Prob(Omnibus):</th> <td> 0.000</td> <th>  Jarque-Bera (JB):  </th> <td>  33.601</td>\n",
       "</tr>\n",
       "<tr>\n",
       "  <th>Skew:</th>          <td>-1.137</td> <th>  Prob(JB):          </th> <td>5.05e-08</td>\n",
       "</tr>\n",
       "<tr>\n",
       "  <th>Kurtosis:</th>      <td> 4.425</td> <th>  Cond. No.          </th> <td>    3.25</td>\n",
       "</tr>\n",
       "</table><br/><br/>Notes:<br/>[1] Standard Errors assume that the covariance matrix of the errors is correctly specified."
      ],
      "text/plain": [
       "<class 'statsmodels.iolib.summary.Summary'>\n",
       "\"\"\"\n",
       "                            OLS Regression Results                            \n",
       "==============================================================================\n",
       "Dep. Variable:                  DigEx   R-squared:                       0.001\n",
       "Model:                            OLS   Adj. R-squared:                 -0.018\n",
       "Method:                 Least Squares   F-statistic:                   0.03786\n",
       "Date:                Mon, 26 Apr 2021   Prob (F-statistic):              0.963\n",
       "Time:                        15:48:25   Log-Likelihood:                -499.32\n",
       "No. Observations:                 112   AIC:                             1005.\n",
       "Df Residuals:                     109   BIC:                             1013.\n",
       "Df Model:                           2                                         \n",
       "Covariance Type:            nonrobust                                         \n",
       "=====================================================================================\n",
       "                        coef    std err          t      P>|t|      [0.025      0.975]\n",
       "-------------------------------------------------------------------------------------\n",
       "Intercept            65.5803      3.312     19.798      0.000      59.015      72.145\n",
       "C(GENDER)[T.M]        0.4924      4.239      0.116      0.908      -7.908       8.893\n",
       "C(FIRST_GEN)[T.Y]     1.1839      4.352      0.272      0.786      -7.441       9.809\n",
       "==============================================================================\n",
       "Omnibus:                       24.762   Durbin-Watson:                   1.751\n",
       "Prob(Omnibus):                  0.000   Jarque-Bera (JB):               33.601\n",
       "Skew:                          -1.137   Prob(JB):                     5.05e-08\n",
       "Kurtosis:                       4.425   Cond. No.                         3.25\n",
       "==============================================================================\n",
       "\n",
       "Notes:\n",
       "[1] Standard Errors assume that the covariance matrix of the errors is correctly specified.\n",
       "\"\"\""
      ]
     },
     "execution_count": 27,
     "metadata": {},
     "output_type": "execute_result"
    }
   ],
   "source": [
    "\"\"\"\n",
    "Setting a linear regression analysis to describe the results of exam one through the effects of Diagnostic exam, gender and\n",
    "first generation. Here a formula approach from the stats models is used, which uses C() to indicate a categorical variables.\n",
    "The formula assigns a dummy value to a categorical variable and uses it in the regression. \n",
    "This code was adopted from https://stackoverflow.com/questions/50733014/linear-regression-with-dummy-categorical-variables\n",
    "and modified to fit this project.\n",
    "\"\"\"\n",
    "lm = ols('DigEx ~ C(GENDER) + C(FIRST_GEN)', data=Project)\n",
    "lm1= lm.fit()\n",
    "lm1.summary()"
   ]
  },
  {
   "cell_type": "code",
   "execution_count": 28,
   "metadata": {},
   "outputs": [
    {
     "name": "stdout",
     "output_type": "stream",
     "text": [
      "Intercept            6.833949e-38\n",
      "C(GENDER)[T.M]       9.077231e-01\n",
      "C(FIRST_GEN)[T.Y]    7.860944e-01\n",
      "dtype: float64\n"
     ]
    }
   ],
   "source": [
    "\"\"\"\n",
    "Printing the p-values of the above regression analysis\n",
    "\"\"\"\n",
    "print(lm1.pvalues)"
   ]
  },
  {
   "cell_type": "code",
   "execution_count": 39,
   "metadata": {},
   "outputs": [
    {
     "data": {
      "text/html": [
       "<table class=\"simpletable\">\n",
       "<caption>OLS Regression Results</caption>\n",
       "<tr>\n",
       "  <th>Dep. Variable:</th>          <td>Exam1</td>      <th>  R-squared:         </th> <td>   0.154</td>\n",
       "</tr>\n",
       "<tr>\n",
       "  <th>Model:</th>                   <td>OLS</td>       <th>  Adj. R-squared:    </th> <td>   0.089</td>\n",
       "</tr>\n",
       "<tr>\n",
       "  <th>Method:</th>             <td>Least Squares</td>  <th>  F-statistic:       </th> <td>   2.350</td>\n",
       "</tr>\n",
       "<tr>\n",
       "  <th>Date:</th>             <td>Mon, 26 Apr 2021</td> <th>  Prob (F-statistic):</th>  <td>0.0231</td> \n",
       "</tr>\n",
       "<tr>\n",
       "  <th>Time:</th>                 <td>15:50:28</td>     <th>  Log-Likelihood:    </th> <td> -490.08</td>\n",
       "</tr>\n",
       "<tr>\n",
       "  <th>No. Observations:</th>      <td>   112</td>      <th>  AIC:               </th> <td>   998.2</td>\n",
       "</tr>\n",
       "<tr>\n",
       "  <th>Df Residuals:</th>          <td>   103</td>      <th>  BIC:               </th> <td>   1023.</td>\n",
       "</tr>\n",
       "<tr>\n",
       "  <th>Df Model:</th>              <td>     8</td>      <th>                     </th>     <td> </td>   \n",
       "</tr>\n",
       "<tr>\n",
       "  <th>Covariance Type:</th>      <td>nonrobust</td>    <th>                     </th>     <td> </td>   \n",
       "</tr>\n",
       "</table>\n",
       "<table class=\"simpletable\">\n",
       "<tr>\n",
       "                     <td></td>                       <th>coef</th>     <th>std err</th>      <th>t</th>      <th>P>|t|</th>  <th>[0.025</th>    <th>0.975]</th>  \n",
       "</tr>\n",
       "<tr>\n",
       "  <th>Intercept</th>                              <td>   43.2308</td> <td>    8.207</td> <td>    5.268</td> <td> 0.000</td> <td>   26.954</td> <td>   59.508</td>\n",
       "</tr>\n",
       "<tr>\n",
       "  <th>C(GENDER)[T.M]</th>                         <td>   -0.9121</td> <td>    4.039</td> <td>   -0.226</td> <td> 0.822</td> <td>   -8.923</td> <td>    7.099</td>\n",
       "</tr>\n",
       "<tr>\n",
       "  <th>C(ETHNICITY)[T.Asian]</th>                  <td>    8.8075</td> <td>   11.621</td> <td>    0.758</td> <td> 0.450</td> <td>  -14.239</td> <td>   31.854</td>\n",
       "</tr>\n",
       "<tr>\n",
       "  <th>C(ETHNICITY)[T.Black/African American]</th> <td>    6.9772</td> <td>   10.576</td> <td>    0.660</td> <td> 0.511</td> <td>  -13.997</td> <td>   27.952</td>\n",
       "</tr>\n",
       "<tr>\n",
       "  <th>C(ETHNICITY)[T.Hispanic/Latino]</th>        <td>    6.6422</td> <td>    8.642</td> <td>    0.769</td> <td> 0.444</td> <td>  -10.497</td> <td>   23.781</td>\n",
       "</tr>\n",
       "<tr>\n",
       "  <th>C(ETHNICITY)[T.Not Specified]</th>          <td>   26.1646</td> <td>   15.991</td> <td>    1.636</td> <td> 0.105</td> <td>   -5.550</td> <td>   57.879</td>\n",
       "</tr>\n",
       "<tr>\n",
       "  <th>C(ETHNICITY)[T.White]</th>                  <td>   12.1658</td> <td>    7.292</td> <td>    1.668</td> <td> 0.098</td> <td>   -2.297</td> <td>   26.628</td>\n",
       "</tr>\n",
       "<tr>\n",
       "  <th>C(FIRST_GEN)[T.Y]</th>                      <td>    2.2839</td> <td>    4.497</td> <td>    0.508</td> <td> 0.613</td> <td>   -6.635</td> <td>   11.203</td>\n",
       "</tr>\n",
       "<tr>\n",
       "  <th>Mod1</th>                                   <td>    1.6061</td> <td>    0.513</td> <td>    3.129</td> <td> 0.002</td> <td>    0.588</td> <td>    2.624</td>\n",
       "</tr>\n",
       "</table>\n",
       "<table class=\"simpletable\">\n",
       "<tr>\n",
       "  <th>Omnibus:</th>       <td>11.418</td> <th>  Durbin-Watson:     </th> <td>   1.910</td>\n",
       "</tr>\n",
       "<tr>\n",
       "  <th>Prob(Omnibus):</th> <td> 0.003</td> <th>  Jarque-Bera (JB):  </th> <td>  11.806</td>\n",
       "</tr>\n",
       "<tr>\n",
       "  <th>Skew:</th>          <td>-0.765</td> <th>  Prob(JB):          </th> <td> 0.00273</td>\n",
       "</tr>\n",
       "<tr>\n",
       "  <th>Kurtosis:</th>      <td> 3.437</td> <th>  Cond. No.          </th> <td>    92.6</td>\n",
       "</tr>\n",
       "</table><br/><br/>Notes:<br/>[1] Standard Errors assume that the covariance matrix of the errors is correctly specified."
      ],
      "text/plain": [
       "<class 'statsmodels.iolib.summary.Summary'>\n",
       "\"\"\"\n",
       "                            OLS Regression Results                            \n",
       "==============================================================================\n",
       "Dep. Variable:                  Exam1   R-squared:                       0.154\n",
       "Model:                            OLS   Adj. R-squared:                  0.089\n",
       "Method:                 Least Squares   F-statistic:                     2.350\n",
       "Date:                Mon, 26 Apr 2021   Prob (F-statistic):             0.0231\n",
       "Time:                        15:50:28   Log-Likelihood:                -490.08\n",
       "No. Observations:                 112   AIC:                             998.2\n",
       "Df Residuals:                     103   BIC:                             1023.\n",
       "Df Model:                           8                                         \n",
       "Covariance Type:            nonrobust                                         \n",
       "==========================================================================================================\n",
       "                                             coef    std err          t      P>|t|      [0.025      0.975]\n",
       "----------------------------------------------------------------------------------------------------------\n",
       "Intercept                                 43.2308      8.207      5.268      0.000      26.954      59.508\n",
       "C(GENDER)[T.M]                            -0.9121      4.039     -0.226      0.822      -8.923       7.099\n",
       "C(ETHNICITY)[T.Asian]                      8.8075     11.621      0.758      0.450     -14.239      31.854\n",
       "C(ETHNICITY)[T.Black/African American]     6.9772     10.576      0.660      0.511     -13.997      27.952\n",
       "C(ETHNICITY)[T.Hispanic/Latino]            6.6422      8.642      0.769      0.444     -10.497      23.781\n",
       "C(ETHNICITY)[T.Not Specified]             26.1646     15.991      1.636      0.105      -5.550      57.879\n",
       "C(ETHNICITY)[T.White]                     12.1658      7.292      1.668      0.098      -2.297      26.628\n",
       "C(FIRST_GEN)[T.Y]                          2.2839      4.497      0.508      0.613      -6.635      11.203\n",
       "Mod1                                       1.6061      0.513      3.129      0.002       0.588       2.624\n",
       "==============================================================================\n",
       "Omnibus:                       11.418   Durbin-Watson:                   1.910\n",
       "Prob(Omnibus):                  0.003   Jarque-Bera (JB):               11.806\n",
       "Skew:                          -0.765   Prob(JB):                      0.00273\n",
       "Kurtosis:                       3.437   Cond. No.                         92.6\n",
       "==============================================================================\n",
       "\n",
       "Notes:\n",
       "[1] Standard Errors assume that the covariance matrix of the errors is correctly specified.\n",
       "\"\"\""
      ]
     },
     "execution_count": 39,
     "metadata": {},
     "output_type": "execute_result"
    }
   ],
   "source": [
    "\"\"\"\n",
    "Setting a linear regression analysis to describe the results of exam one through the effects of Diagnostic exam, gender and\n",
    "first generation. Here a formula approach from the stats models is used, which uses C() to indicate a categorical variables.\n",
    "This code was adopted from https://stackoverflow.com/questions/50733014/linear-regression-with-dummy-categorical-variables\n",
    "and modified to fit this project.\n",
    "\"\"\"\n",
    "lm2 = ols('Exam1 ~ Mod1 + C(GENDER)+ C(ETHNICITY) + C(FIRST_GEN)', data=Project)\n",
    "lm3= lm2.fit()\n",
    "lm3.summary()"
   ]
  },
  {
   "cell_type": "code",
   "execution_count": 40,
   "metadata": {},
   "outputs": [
    {
     "name": "stdout",
     "output_type": "stream",
     "text": [
      "Intercept                                 7.616668e-07\n",
      "C(GENDER)[T.M]                            8.217939e-01\n",
      "C(ETHNICITY)[T.Asian]                     4.502284e-01\n",
      "C(ETHNICITY)[T.Black/African American]    5.108928e-01\n",
      "C(ETHNICITY)[T.Hispanic/Latino]           4.438783e-01\n",
      "C(ETHNICITY)[T.Not Specified]             1.048524e-01\n",
      "C(ETHNICITY)[T.White]                     9.829024e-02\n",
      "C(FIRST_GEN)[T.Y]                         6.126527e-01\n",
      "Mod1                                      2.280686e-03\n",
      "dtype: float64\n"
     ]
    }
   ],
   "source": [
    "\"\"\"\n",
    "printing p-values of the regression model\n",
    "\"\"\"\n",
    "print(lm3.pvalues)"
   ]
  },
  {
   "cell_type": "code",
   "execution_count": 41,
   "metadata": {},
   "outputs": [
    {
     "data": {
      "image/png": "[encoded data removed]",
      "text/plain": [
       "<Figure size 720x144 with 1 Axes>"
      ]
     },
     "metadata": {
      "needs_background": "light"
     },
     "output_type": "display_data"
    },
    {
     "data": {
      "image/png": "[encoded data removed]",
      "text/plain": [
       "<Figure size 720x144 with 1 Axes>"
      ]
     },
     "metadata": {
      "needs_background": "light"
     },
     "output_type": "display_data"
    },
    {
     "data": {
      "image/png": "[encoded data removed]",
      "text/plain": [
       "<Figure size 720x144 with 1 Axes>"
      ]
     },
     "metadata": {
      "needs_background": "light"
     },
     "output_type": "display_data"
    },
    {
     "data": {
      "image/png": "[encoded data removed]",
      "text/plain": [
       "<Figure size 720x144 with 1 Axes>"
      ]
     },
     "metadata": {
      "needs_background": "light"
     },
     "output_type": "display_data"
    },
    {
     "data": {
      "image/png": "[encoded data removed]",
      "text/plain": [
       "<Figure size 576x144 with 1 Axes>"
      ]
     },
     "metadata": {
      "needs_background": "light"
     },
     "output_type": "display_data"
    },
    {
     "name": "stdout",
     "output_type": "stream",
     "text": [
      "2.7343207063625283e-14\n"
     ]
    }
   ],
   "source": [
    "\"\"\"\n",
    "Using the residual test to measure the robustness (errors) of the prediction made using the linear regression\n",
    "testing residual by each predictor variable used in the regression analysis\n",
    "\"\"\"\n",
    "for x in ('GENDER', 'ETHNICITY', 'FIRST_GEN','Mod1'):\n",
    "    plt.figure(figsize=(10,2))\n",
    "    sns.scatterplot(Project[x], lm3.resid)\n",
    "    plt.title(\"Residuals by %s\" % x)\n",
    "    plt.ylim(-100, 100)\n",
    "  \n",
    "    plt.axhline(np.mean(lm3.resid))\n",
    "    plt.show()\n",
    "\"\"\"\n",
    "testing residual of the predicted value\n",
    "\"\"\"\n",
    "plt.figure(figsize=(8,2))\n",
    "sns.scatterplot(lm3.predict(), lm3.resid)\n",
    "plt.title(\"Residuals by Predicted Value\")\n",
    "plt.ylim(-100, 100)\n",
    "plt.axhline(np.mean(lm3.resid))\n",
    "plt.show()\n",
    "\"\"\"\n",
    "printing the mean of the residual\n",
    "\"\"\"\n",
    "print(np.mean(lm3.resid))\n",
    "warnings.simplefilter(action='ignore', category=FutureWarning)"
   ]
  },
  {
   "cell_type": "code",
   "execution_count": 42,
   "metadata": {},
   "outputs": [
    {
     "data": {
      "image/png": "[encoded data removed]",
      "text/plain": [
       "<Figure size 360x360 with 1 Axes>"
      ]
     },
     "metadata": {
      "needs_background": "light"
     },
     "output_type": "display_data"
    },
    {
     "data": {
      "text/plain": [
       "<Figure size 1152x576 with 0 Axes>"
      ]
     },
     "metadata": {},
     "output_type": "display_data"
    },
    {
     "data": {
      "image/png": "[encoded data removed]",
      "text/plain": [
       "<Figure size 512.375x360 with 1 Axes>"
      ]
     },
     "metadata": {
      "needs_background": "light"
     },
     "output_type": "display_data"
    }
   ],
   "source": [
    "\"\"\"\n",
    "Plotting Exam1 against Primary program to see if there is a significant difference between students of different programs\n",
    "\"\"\"\n",
    "sns.catplot('PRIMARY_PROGRAM', 'Exam1', data=Project, kind='bar')\n",
    "plt.figure(figsize=(16,8))\n",
    "plt.show()\n",
    "\"\"\"\n",
    "adding other predictos ethnicity and first generation to the plot above to show how background influences the Exam1 results\n",
    "\"\"\"\n",
    "sns.catplot('PRIMARY_PROGRAM', 'Exam1', hue='ETHNICITY', data=Project, kind='bar')\n",
    "plt.show\n",
    "warnings.simplefilter(action='ignore', category=FutureWarning)"
   ]
  },
  {
   "cell_type": "code",
   "execution_count": 96,
   "metadata": {},
   "outputs": [
    {
     "data": {
      "image/png": "[encoded data removed]",
      "text/plain": [
       "<Figure size 432x288 with 1 Axes>"
      ]
     },
     "metadata": {
      "needs_background": "light"
     },
     "output_type": "display_data"
    }
   ],
   "source": [
    "\"\"\"\n",
    "plotting Exam1 against DigEx to see if the two values have a pattern and \n",
    "fitting a regression line to the scatter plot to test correlation\n",
    "\"\"\"\n",
    "ax = sns.regplot('DigEx', 'Exam1', data=Project).set_title('COMPARISON OF THE TWO EXAMS')\n",
    "plt.show()\n",
    "fig=ax.get_figure()\n",
    "fig.savefig('compare.png')\n",
    "warnings.simplefilter(action='ignore', category=FutureWarning)\n"
   ]
  },
  {
   "cell_type": "code",
   "execution_count": 44,
   "metadata": {},
   "outputs": [
    {
     "name": "stdout",
     "output_type": "stream",
     "text": [
      "0.7244408665866546\n"
     ]
    }
   ],
   "source": [
    "\"\"\"\n",
    "\n",
    "#independent t-test to test if the two fields Exam1 and DigEx results are statistically different from one another.\n",
    "\"\"\"\n",
    "tstat, pval = stats.ttest_ind(Project.Exam1, Project.DigEx)\n",
    "\"\"\"\n",
    "#printing the p-value of the t-test\n",
    "\"\"\"\n",
    "print(pval)"
   ]
  },
  {
   "cell_type": "code",
   "execution_count": 35,
   "metadata": {},
   "outputs": [
    {
     "data": {
      "text/html": [
       "<table class=\"simpletable\">\n",
       "<caption>OLS Regression Results</caption>\n",
       "<tr>\n",
       "  <th>Dep. Variable:</th>          <td>Exam1</td>      <th>  R-squared:         </th> <td>   0.375</td>\n",
       "</tr>\n",
       "<tr>\n",
       "  <th>Model:</th>                   <td>OLS</td>       <th>  Adj. R-squared:    </th> <td>   0.369</td>\n",
       "</tr>\n",
       "<tr>\n",
       "  <th>Method:</th>             <td>Least Squares</td>  <th>  F-statistic:       </th> <td>   66.61</td>\n",
       "</tr>\n",
       "<tr>\n",
       "  <th>Date:</th>             <td>Mon, 26 Apr 2021</td> <th>  Prob (F-statistic):</th> <td>5.69e-13</td>\n",
       "</tr>\n",
       "<tr>\n",
       "  <th>Time:</th>                 <td>15:48:37</td>     <th>  Log-Likelihood:    </th> <td> -476.94</td>\n",
       "</tr>\n",
       "<tr>\n",
       "  <th>No. Observations:</th>      <td>   113</td>      <th>  AIC:               </th> <td>   957.9</td>\n",
       "</tr>\n",
       "<tr>\n",
       "  <th>Df Residuals:</th>          <td>   111</td>      <th>  BIC:               </th> <td>   963.3</td>\n",
       "</tr>\n",
       "<tr>\n",
       "  <th>Df Model:</th>              <td>     1</td>      <th>                     </th>     <td> </td>   \n",
       "</tr>\n",
       "<tr>\n",
       "  <th>Covariance Type:</th>      <td>nonrobust</td>    <th>                     </th>     <td> </td>   \n",
       "</tr>\n",
       "</table>\n",
       "<table class=\"simpletable\">\n",
       "<tr>\n",
       "      <td></td>         <th>coef</th>     <th>std err</th>      <th>t</th>      <th>P>|t|</th>  <th>[0.025</th>    <th>0.975]</th>  \n",
       "</tr>\n",
       "<tr>\n",
       "  <th>Intercept</th> <td>   26.5742</td> <td>    5.210</td> <td>    5.101</td> <td> 0.000</td> <td>   16.251</td> <td>   36.898</td>\n",
       "</tr>\n",
       "<tr>\n",
       "  <th>DigEx</th>     <td>    0.6131</td> <td>    0.075</td> <td>    8.161</td> <td> 0.000</td> <td>    0.464</td> <td>    0.762</td>\n",
       "</tr>\n",
       "</table>\n",
       "<table class=\"simpletable\">\n",
       "<tr>\n",
       "  <th>Omnibus:</th>       <td> 7.977</td> <th>  Durbin-Watson:     </th> <td>   1.767</td>\n",
       "</tr>\n",
       "<tr>\n",
       "  <th>Prob(Omnibus):</th> <td> 0.019</td> <th>  Jarque-Bera (JB):  </th> <td>   7.637</td>\n",
       "</tr>\n",
       "<tr>\n",
       "  <th>Skew:</th>          <td>-0.605</td> <th>  Prob(JB):          </th> <td>  0.0220</td>\n",
       "</tr>\n",
       "<tr>\n",
       "  <th>Kurtosis:</th>      <td> 3.396</td> <th>  Cond. No.          </th> <td>    231.</td>\n",
       "</tr>\n",
       "</table><br/><br/>Notes:<br/>[1] Standard Errors assume that the covariance matrix of the errors is correctly specified."
      ],
      "text/plain": [
       "<class 'statsmodels.iolib.summary.Summary'>\n",
       "\"\"\"\n",
       "                            OLS Regression Results                            \n",
       "==============================================================================\n",
       "Dep. Variable:                  Exam1   R-squared:                       0.375\n",
       "Model:                            OLS   Adj. R-squared:                  0.369\n",
       "Method:                 Least Squares   F-statistic:                     66.61\n",
       "Date:                Mon, 26 Apr 2021   Prob (F-statistic):           5.69e-13\n",
       "Time:                        15:48:37   Log-Likelihood:                -476.94\n",
       "No. Observations:                 113   AIC:                             957.9\n",
       "Df Residuals:                     111   BIC:                             963.3\n",
       "Df Model:                           1                                         \n",
       "Covariance Type:            nonrobust                                         \n",
       "==============================================================================\n",
       "                 coef    std err          t      P>|t|      [0.025      0.975]\n",
       "------------------------------------------------------------------------------\n",
       "Intercept     26.5742      5.210      5.101      0.000      16.251      36.898\n",
       "DigEx          0.6131      0.075      8.161      0.000       0.464       0.762\n",
       "==============================================================================\n",
       "Omnibus:                        7.977   Durbin-Watson:                   1.767\n",
       "Prob(Omnibus):                  0.019   Jarque-Bera (JB):                7.637\n",
       "Skew:                          -0.605   Prob(JB):                       0.0220\n",
       "Kurtosis:                       3.396   Cond. No.                         231.\n",
       "==============================================================================\n",
       "\n",
       "Notes:\n",
       "[1] Standard Errors assume that the covariance matrix of the errors is correctly specified.\n",
       "\"\"\""
      ]
     },
     "execution_count": 35,
     "metadata": {},
     "output_type": "execute_result"
    }
   ],
   "source": [
    "\"\"\"\n",
    "linear regression model to describe Exam1 by DigEx as a predictor\n",
    "\"\"\"\n",
    "lm4 = ols('Exam1 ~ DigEx', data=Project)\n",
    "lm5= lm4.fit()\n",
    "lm5.summary()"
   ]
  },
  {
   "cell_type": "code",
   "execution_count": 45,
   "metadata": {},
   "outputs": [
    {
     "name": "stdout",
     "output_type": "stream",
     "text": [
      "Intercept    1.406149e-06\n",
      "DigEx        5.692343e-13\n",
      "dtype: float64\n"
     ]
    }
   ],
   "source": [
    "\"\"\"\n",
    "printing the p-values of the regression for closer look\n",
    "\"\"\"\n",
    "print(lm5.pvalues)"
   ]
  },
  {
   "cell_type": "code",
   "execution_count": null,
   "metadata": {},
   "outputs": [],
   "source": []
  },
  {
   "cell_type": "code",
   "execution_count": null,
   "metadata": {},
   "outputs": [],
   "source": []
  }
 ],
 "metadata": {
  "kernelspec": {
   "display_name": "Python 3",
   "language": "python",
   "name": "python3"
  },
  "language_info": {
   "codemirror_mode": {
    "name": "ipython",
    "version": 3
   },
   "file_extension": ".py",
   "mimetype": "text/x-python",
   "name": "python",
   "nbconvert_exporter": "python",
   "pygments_lexer": "ipython3",
   "version": "3.6.8"
  }
 },
 "nbformat": 4,
 "nbformat_minor": 2
}
